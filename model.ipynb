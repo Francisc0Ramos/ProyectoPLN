{
 "cells": [
  {
   "cell_type": "code",
   "execution_count": 1,
   "metadata": {},
   "outputs": [
    {
     "name": "stderr",
     "output_type": "stream",
     "text": [
      "Neither CUDA nor MPS are available - defaulting to CPU. Note: This module is much faster with a GPU.\n"
     ]
    }
   ],
   "source": [
    "import easyocr\n",
    "import cv2\n",
    "import matplotlib.pyplot as plt\n",
    "import pinyin\n",
    "\n",
    "reader = easyocr.Reader(['ch_sim', 'en']) \n"
   ]
  },
  {
   "cell_type": "code",
   "execution_count": null,
   "metadata": {},
   "outputs": [
    {
     "name": "stdout",
     "output_type": "stream",
     "text": [
      "Recognized text:\n",
      "我是-个学生\n",
      "Pinyin text:\n",
      "wǒshì-gèxuéshēng\n"
     ]
    }
   ],
   "source": [
    "image_path = 'prueba1.jpg' \n",
    "img = cv2.imread(image_path)\n",
    "result = reader.readtext(img)\n",
    "caracteres = [detection[1] for detection in result]\n",
    "\n",
    "text = ''.join(caracteres)\n",
    "\n",
    "print(\"Recognized text:\")\n",
    "print(text)\n",
    "\n",
    "pinyin_texto = pinyin.get(text)\n",
    "print(\"Pinyin text:\")\n",
    "print(pinyin_texto)\n"
   ]
  },
  {
   "cell_type": "code",
   "execution_count": null,
   "metadata": {},
   "outputs": [],
   "source": [
    "from transformers import MarianMTModel, MarianTokenizer\n",
    "\n",
    "model_name = \"Helsinki-NLP/opus-mt-zh-en\"\n",
    "tokenizer = MarianTokenizer.from_pretrained(model_name)"
   ]
  },
  {
   "cell_type": "code",
   "execution_count": 7,
   "metadata": {},
   "outputs": [
    {
     "name": "stdout",
     "output_type": "stream",
     "text": [
      "Texto original: 我是-个学生\n",
      "Texto traducido: I'm a student.\n"
     ]
    }
   ],
   "source": [
    "texto = '我是-个学生'\n",
    "\n",
    "inputs = tokenizer(texto, return_tensors=\"pt\",padding=True,truncation = True)\n",
    "\n",
    "model = MarianMTModel.from_pretrained(model_name)\n",
    "translated = model.generate(**inputs)\n",
    "\n",
    "transalated_text = tokenizer.decode(translated[0],skip_special_tokens=True)\n",
    "print(\"Texto original:\", texto)\n",
    "print(\"Texto traducido:\", transalated_text)"
   ]
  }
 ],
 "metadata": {
  "kernelspec": {
   "display_name": "base",
   "language": "python",
   "name": "python3"
  },
  "language_info": {
   "codemirror_mode": {
    "name": "ipython",
    "version": 3
   },
   "file_extension": ".py",
   "mimetype": "text/x-python",
   "name": "python",
   "nbconvert_exporter": "python",
   "pygments_lexer": "ipython3",
   "version": "3.12.4"
  }
 },
 "nbformat": 4,
 "nbformat_minor": 2
}
